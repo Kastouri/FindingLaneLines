{
 "cells": [
  {
   "cell_type": "markdown",
   "metadata": {},
   "source": [
    "# Self-Driving Car Engineer Nanodegree\n",
    "\n",
    "\n",
    "## Project: **Finding Lane Lines on the Road** "
   ]
  },
  {
   "cell_type": "markdown",
   "metadata": {},
   "source": [
    "## Import Packages"
   ]
  },
  {
   "cell_type": "code",
   "execution_count": 2,
   "metadata": {},
   "outputs": [],
   "source": [
    "#importing some useful packages\n",
    "import matplotlib.pyplot as plt\n",
    "import matplotlib.image as mpimg\n",
    "import numpy as np\n",
    "from numpy.polynomial.polynomial import polyfit\n",
    "import cv2\n",
    "%matplotlib inline"
   ]
  },
  {
   "cell_type": "markdown",
   "metadata": {},
   "source": [
    "## Helper Functions"
   ]
  },
  {
   "cell_type": "code",
   "execution_count": 3,
   "metadata": {},
   "outputs": [],
   "source": [
    "import math\n",
    "\n",
    "def grayscale(img):\n",
    "    \"\"\"Applies the Grayscale transform\n",
    "    This will return an image with only one color channel\n",
    "    but NOTE: to see the returned image as grayscale\n",
    "    (assuming your grayscaled image is called 'gray')\n",
    "    you should call plt.imshow(gray, cmap='gray')\"\"\"\n",
    "    return cv2.cvtColor(img, cv2.COLOR_RGB2GRAY)\n",
    "    # Or use BGR2GRAY if you read an image with cv2.imread()\n",
    "    # return cv2.cvtColor(img, cv2.COLOR_BGR2GRAY)\n",
    "    \n",
    "def canny(img, low_threshold, high_threshold):\n",
    "    \"\"\"Applies the Canny transform\"\"\"\n",
    "    return cv2.Canny(img, low_threshold, high_threshold)\n",
    "\n",
    "def gaussian_blur(img, kernel_size):\n",
    "    \"\"\"Applies a Gaussian Noise kernel\"\"\"\n",
    "    return cv2.GaussianBlur(img, (kernel_size, kernel_size), 0)\n",
    "\n",
    "def region_of_interest(img, vertices):\n",
    "    \"\"\"\n",
    "    Applies an image mask.\n",
    "    \n",
    "    Only keeps the region of the image defined by the polygon\n",
    "    formed from `vertices`. The rest of the image is set to black.\n",
    "    `vertices` should be a numpy array of integer points.\n",
    "    \"\"\"\n",
    "    #defining a blank mask to start with\n",
    "    mask = np.zeros_like(img)   \n",
    "    \n",
    "    #defining a 3 channel or 1 channel color to fill the mask with depending on the input image\n",
    "    if len(img.shape) > 2:\n",
    "        channel_count = img.shape[2]  # i.e. 3 or 4 depending on your image\n",
    "        ignore_mask_color = (255,) * channel_count\n",
    "    else:\n",
    "        ignore_mask_color = 255\n",
    "        \n",
    "    #filling pixels inside the polygon defined by \"vertices\" with the fill color    \n",
    "    cv2.fillPoly(mask, vertices, ignore_mask_color)\n",
    "    \n",
    "    #returning the image only where mask pixels are nonzero\n",
    "    masked_image = cv2.bitwise_and(img, mask)\n",
    "    return masked_image\n",
    "\n",
    "\n",
    "def draw_lines_old(img, lines, color=[255, 0, 0], thickness=10):\n",
    "    \"\"\"\n",
    "    NOTE: this is the function you might want to use as a starting point once you want to \n",
    "    average/extrapolate the line segments you detect to map out the full\n",
    "    extent of the lane (going from the result shown in raw-lines-example.mp4\n",
    "    to that shown in P1_example.mp4).  \n",
    "    \n",
    "    Think about things like separating line segments by their \n",
    "    slope ((y2-y1)/(x2-x1)) to decide which segments are part of the left\n",
    "    line vs. the right line.  Then, you can average the position of each of \n",
    "    the lines and extrapolate to the top and bottom of the lane.\n",
    "    \n",
    "    This function draws `lines` with `color` and `thickness`.    \n",
    "    Lines are drawn on the image inplace (mutates the image).\n",
    "    If you want to make the lines semi-transparent, think about combining\n",
    "    this function with the weighted_img() function below\n",
    "    \"\"\"\n",
    "    # right and left lane slope average\n",
    "    right_slope_sum  = 0\n",
    "    left_slope_sum = 0\n",
    "    # right and left position average through which the red lines should pass \n",
    "    right_x_pos_sum = 0\n",
    "    right_y_pos_sum = 0\n",
    "    left_x_pos_sum = 0\n",
    "    left_y_pos_sum = 0\n",
    "    # number of segments in the right and left lane\n",
    "    num_seg_right = 0\n",
    "    num_seg_left = 0\n",
    "    for line in lines:\n",
    "        for x1,y1,x2,y2 in line:\n",
    "            # calulate slope of line\n",
    "            slope = (y1 - y2) / (x1 - x2) \n",
    "            # if the segments is a part of the right lane (negative slope)\n",
    "            if (slope < 0):\n",
    "                # increment number of segments in the right slope\n",
    "                num_seg_right = num_seg_right + 1 \n",
    "                # add to slope sum\n",
    "                right_slope_sum = right_slope_sum + slope\n",
    "                # add the position to the position sum\n",
    "                right_x_pos_sum = right_x_pos_sum + (x1 + x2) / 2\n",
    "                right_y_pos_sum = right_y_pos_sum + (y1 + y2) / 2\n",
    "            elif (slope > 0):  # don't consider horizontal lines\n",
    "                # increment number of segments in the right slope\n",
    "                num_seg_left = num_seg_left + 1 \n",
    "                # add to slope sum\n",
    "                left_slope_sum = left_slope_sum + slope\n",
    "                # add the position to the position sum\n",
    "                left_x_pos_sum = left_x_pos_sum + (x1 + x2) / 2\n",
    "                left_y_pos_sum = left_y_pos_sum + (y1 + y2) / 2\n",
    "    # calculate average slope for the right an left lane\n",
    "    right_slope_av = right_slope_sum / num_seg_right\n",
    "    left_slope_av = left_slope_sum / num_seg_left\n",
    "    # calculate postion average\n",
    "    right_x_pos_av = right_x_pos_sum / num_seg_right\n",
    "    right_y_pos_av = right_y_pos_sum / num_seg_right\n",
    "    left_x_pos_av = left_x_pos_sum / num_seg_left\n",
    "    left_y_pos_av = left_y_pos_sum / num_seg_left\n",
    "    # determine b in y = a . x + b\n",
    "    b_right = right_y_pos_av - right_slope_av * right_x_pos_av\n",
    "    b_left = left_y_pos_av - left_slope_av * left_x_pos_av\n",
    "    # determine the start and end point of the segment\n",
    "    start_left_y = img.shape[0]\n",
    "    start_left_x = (start_left_y - b_left) / left_slope_av \n",
    "    end_left_y = img.shape[0] * 0.6 \n",
    "    end_left_x = (end_left_y - b_left) / left_slope_av \n",
    "    \n",
    "    start_right_y = img.shape[0]\n",
    "    start_right_x = (start_right_y - b_right) / right_slope_av \n",
    "    end_right_y = img.shape[0] * 0.6 \n",
    "    end_right_x = (end_right_y - b_right) / right_slope_av   \n",
    "    # draw right lane\n",
    "    cv2.line(img, (int(round(start_right_x)), int(round(start_right_y))), \n",
    "                   (int(round(end_right_x)), int(round(end_right_y))), color, thickness)\n",
    "    # draw left lane\n",
    "    cv2.line(img, (int(round(start_left_x)), int(round(start_left_y))), \n",
    "                   (int(round(end_left_x)), int(round(end_left_y))), color, thickness)\n",
    "\n",
    "def draw_lines (img, lines, color=[255, 0, 0], thickness=5):\n",
    "    # initiate point list for right and left lane\n",
    "    left_lane_x = []\n",
    "    left_lane_y = []\n",
    "    right_lane_x = []\n",
    "    right_lane_y = []\n",
    "    # initiate slope\n",
    "    slope = 1\n",
    "    # iterate through lines\n",
    "    for line in lines:\n",
    "        # for points in line\n",
    "        for x1,y1,x2,y2 in line:\n",
    "            # calculate slope\n",
    "            slope = (y1 - y2) / (x1 - x2)\n",
    "            # add points to corresponding lane\n",
    "            if (slope > 0): #and (((x1+x2)/2) < (img.shape[1] / 2)) : # if slope is positive to the left\n",
    "                left_lane_x.extend([x1, x2])\n",
    "                left_lane_y.extend([y1, y2])\n",
    "            elif (slope < 0):# and (((x1+x2)/2) > (img.shape[1] / 2)):  # if slope is negative to the right\n",
    "                right_lane_x.extend([x1, x2])\n",
    "                right_lane_y.extend([y1, y2])\n",
    "    \n",
    "    # if at a given time no segments are detected for a given lanes\n",
    "    #if (not right_lane_x) or (not left_lane_y):  # don't draw a line\n",
    "     #   return\n",
    "    if  (right_lane_x) and (left_lane_y): # if there is something to draw\n",
    "        # determine equation desscribing the lane line\n",
    "        b_right, m_right = polyfit(np.array(right_lane_x), np.array(right_lane_y), 1)\n",
    "        b_left, m_left = polyfit(np.array(left_lane_x), np.array(left_lane_y), 1)\n",
    "        \n",
    "        # determine x-position of start point given y = shape[0]\n",
    "        start_right_y = img.shape[0]  # max(right_lane_y)  \n",
    "        start_right_x = int(round((start_right_y - b_right) / \n",
    "                                  m_right)) if m_right != 0 else int(round(img.shape[1]*0.9)) \n",
    "        start_left_y = img.shape[0] # max(left_lane_y) \n",
    "        start_left_x = int(round((start_left_y - b_left) / \n",
    "                                  m_left)) if m_left != 0 else int(round(img.shape[1]*0.1))\n",
    "        \n",
    "        # ending point \n",
    "        end_right_y =  max(int(round(img.shape[0] * 0.6)), min(right_lane_y)) # min(right_lane_y)  \n",
    "        end_right_x = int(round((end_right_y - b_right) / \n",
    "                                  m_right)) if m_right != 0 else int(round(img.shape[0]*0.9)) \n",
    "        end_left_y =  max(int(round(img.shape[0] * 0.6)), min(right_lane_y))  # min(right_lane_y)  \n",
    "        end_left_x = int(round((end_left_y - b_left) / \n",
    "                                  m_left)) if m_left != 0 else int(round(img.shape[0]*0.1))\n",
    "        \n",
    "        # draw lines\n",
    "        cv2.line(img, (start_left_x, start_left_y), \n",
    "                   (end_left_x, end_left_y), color, thickness)\n",
    "        cv2.line(img, (start_right_x, start_right_y), \n",
    "                   (end_right_x, end_right_y), color, thickness)\n",
    "    \n",
    "    return\n",
    "    \n",
    "      \n",
    "def draw_line_segments(img, lines, color=[255, 0, 0], thickness=5):\n",
    "    \"\"\"\n",
    "    This function draws `lines` with `color` and `thickness`.    \n",
    "    Lines are drawn on the image inplace (mutates the image).\n",
    "    If you want to make the lines semi-transparent, think about combining\n",
    "    this function with the weighted_img() function below\n",
    "    \"\"\"\n",
    "    for line in lines:\n",
    "        for x1,y1,x2,y2 in line:\n",
    "            cv2.line(img, (x1, y1), (x2, y2), color, thickness)\n",
    "        \n",
    "\n",
    "def hough_lines(img, rho, theta, threshold, min_line_len, max_line_gap):\n",
    "    \"\"\"\n",
    "    `img` should be the output of a Canny transform.\n",
    "        \n",
    "    Returns an image with hough lines drawn.\n",
    "    \"\"\"\n",
    "    lines = cv2.HoughLinesP(img, rho, theta, threshold, np.array([]), minLineLength=min_line_len, maxLineGap=max_line_gap)\n",
    "    line_img = np.zeros((img.shape[0], img.shape[1], 3), dtype=np.uint8)\n",
    "    draw_lines(line_img, lines)\n",
    "    return line_img\n",
    "\n",
    "# Python 3 has support for cool math symbols.\n",
    "\n",
    "def weighted_img(img, initial_img, α=0.7, β=1., γ=0.):\n",
    "    \"\"\"\n",
    "    `img` is the output of the hough_lines(), An image with lines drawn on it.\n",
    "    Should be a blank image (all black) with lines drawn on it.\n",
    "    \n",
    "    `initial_img` should be the image before any processing.\n",
    "    \n",
    "    The result image is computed as follows:\n",
    "    \n",
    "    initial_img * α + img * β + γ\n",
    "    NOTE: initial_img and img must be the same shape!\n",
    "    \"\"\"\n",
    "    return cv2.addWeighted(initial_img, α, img, β, γ)"
   ]
  },
  {
   "cell_type": "code",
   "execution_count": 4,
   "metadata": {},
   "outputs": [],
   "source": [
    "import os\n",
    "images_list = os.listdir(\"test_images/\")  # show the list of images in test_images/"
   ]
  },
  {
   "cell_type": "markdown",
   "metadata": {},
   "source": [
    "## Build a Lane Finding Pipeline\n"
   ]
  },
  {
   "cell_type": "markdown",
   "metadata": {},
   "source": [
    "Build the pipeline and run your solution on all test_images. Make copies into the `test_images_output` directory, and you can use the images in your writeup report.\n",
    "\n",
    "Try tuning the various parameters, especially the low and high Canny thresholds as well as the Hough lines parameters."
   ]
  },
  {
   "cell_type": "markdown",
   "metadata": {},
   "source": [
    "# TODO: Build your pipeline that will draw lane lines on the test_images\n",
    "i = 0 \n",
    "for image_name in images_list:\n",
    "    # read and grayscale the image\n",
    "    image = mpimg.imread('test_images/' + image_name)\n",
    "    imshape = image.shape  # get the image shape\n",
    "    gray = cv2.cvtColor(image, cv2.COLOR_RGB2GRAY)\n",
    "    # apply Gaussian smoothing\n",
    "    blur_gray = gaussian_blur(gray, kernel_size=5)\n",
    "    # apply Canny Edge Detection\n",
    "    edges = canny(blur_gray, low_threshold=50, high_threshold=150)\n",
    "    # mask the region we are not intersted in\n",
    "    vertices = np.array([[(imshape[1] * 0,imshape[0]),(imshape[1]*0.46, imshape[0]*0.6), (imshape[1]* 0.54, imshape[0]* 0.6), (imshape[1] * 1,imshape[0])]], dtype=np.int32)\n",
    "    masked_edges = region_of_interest(edges, vertices=vertices)\n",
    "    # apply Hough to find lines in the detected edges\n",
    "    line_img = hough_lines(masked_edges, rho=2, theta=np.pi/180, threshold=15, min_line_len=40, max_line_gap=20)\n",
    "    # add the detected lines to the original image\n",
    "    image_with_lines = weighted_img(line_img, initial_img=image)\n",
    "    plt.figure(i)\n",
    "    i = i + 1 \n",
    "    plt.imshow(image_with_lines)\n",
    "    # save to the test_images_output directory\n",
    "    mpimg.imsave('test_images_output/' + image_name , image_with_lines)"
   ]
  },
  {
   "cell_type": "markdown",
   "metadata": {},
   "source": [
    "## Test on Videos\n",
    "\n",
    "You know what's cooler than drawing lanes over images? Drawing lanes over video!\n",
    "\n",
    "We can test our solution on two provided videos:\n",
    "\n",
    "`solidWhiteRight.mp4`\n",
    "\n",
    "`solidYellowLeft.mp4`\n"
   ]
  },
  {
   "cell_type": "code",
   "execution_count": 5,
   "metadata": {},
   "outputs": [],
   "source": [
    "# Import everything needed to edit/save/watch video clips\n",
    "from moviepy.editor import VideoFileClip\n",
    "from IPython.display import HTML"
   ]
  },
  {
   "cell_type": "code",
   "execution_count": 6,
   "metadata": {},
   "outputs": [],
   "source": [
    "def process_image(image):\n",
    "    # NOTE: The output you return should be a color image (3 channel) for processing video below\n",
    "    # TODO: put your pipeline here,\n",
    "    # you should return the final output (image where lines are drawn on lanes)\n",
    "    # read and grayscale the image\n",
    "    imshape = image.shape  # get the image shape\n",
    "    gray = cv2.cvtColor(image, cv2.COLOR_RGB2GRAY)\n",
    "    # apply Gaussian smoothing\n",
    "    blur_gray = gaussian_blur(gray, kernel_size=5)\n",
    "    # apply Canny Edge Detection\n",
    "    edges = canny(blur_gray, low_threshold=50, high_threshold=150)\n",
    "    # mask the region we are not intersted in\n",
    "    vertices = np.array([[(imshape[1] * 0,imshape[0]),(imshape[1]*0.46, imshape[0]*0.6), (imshape[1]* 0.54, imshape[0]* 0.6), (imshape[1] * 1,imshape[0])]], dtype=np.int32)\n",
    "    masked_edges = region_of_interest(edges, vertices=vertices)\n",
    "    # apply Hough to find lines in the detected edges\n",
    "    line_img = hough_lines(masked_edges, rho=2, theta=np.pi/180, threshold=15, min_line_len=40, max_line_gap=20)\n",
    "    # add the detected lines to the original image\n",
    "    result = weighted_img(line_img, initial_img=image)\n",
    "    \n",
    "    return result\n"
   ]
  },
  {
   "cell_type": "markdown",
   "metadata": {},
   "source": [
    "Let's try the one with the solid white lane on the right first ..."
   ]
  },
  {
   "cell_type": "code",
   "execution_count": 7,
   "metadata": {},
   "outputs": [
    {
     "name": "stderr",
     "output_type": "stream",
     "text": [
      "t:  12%|█▏        | 15/125 [00:00<00:00, 141.72it/s, now=None]"
     ]
    },
    {
     "name": "stdout",
     "output_type": "stream",
     "text": [
      "Moviepy - Building video test_videos_output/solidWhiteRight_annotated.mp4.\n",
      "Moviepy - Writing video test_videos_output/solidWhiteRight_annotated.mp4\n",
      "\n"
     ]
    },
    {
     "name": "stderr",
     "output_type": "stream",
     "text": [
      "                                                              \r"
     ]
    },
    {
     "name": "stdout",
     "output_type": "stream",
     "text": [
      "Moviepy - Done !\n",
      "Moviepy - video ready test_videos_output/solidWhiteRight_annotated.mp4\n",
      "CPU times: user 2.61 s, sys: 169 ms, total: 2.77 s\n",
      "Wall time: 1.64 s\n"
     ]
    }
   ],
   "source": [
    "white_output = 'test_videos_output/solidWhiteRight_annotated.mp4'\n",
    "## To speed up the testing process you may want to try your pipeline on a shorter subclip of the video\n",
    "## To do so add .subclip(start_second,end_second) to the end of the line below\n",
    "## Where start_second and end_second are integer values representing the start and end of the subclip\n",
    "## You may also uncomment the following line for a subclip of the first 5 seconds\n",
    "##clip1 = VideoFileClip(\"test_videos/solidWhiteRight.mp4\").subclip(0,5)\n",
    "clip1 = VideoFileClip(\"test_videos/solidWhiteRight.mp4\").subclip(0,5)\n",
    "white_clip = clip1.fl_image(process_image) #NOTE: this function expects color images!!\n",
    "%time white_clip.write_videofile(white_output, audio=False)"
   ]
  },
  {
   "cell_type": "markdown",
   "metadata": {},
   "source": [
    "Play the video inline, or if you prefer find the video in your filesystem (should be in the same directory) and play it in your video player of choice."
   ]
  },
  {
   "cell_type": "code",
   "execution_count": 8,
   "metadata": {},
   "outputs": [
    {
     "data": {
      "text/html": [
       "\n",
       "<video width=\"960\" height=\"540\" controls>\n",
       "  <source src=\"test_videos_output/solidWhiteRight_annotated.mp4\">\n",
       "</video>\n"
      ],
      "text/plain": [
       "<IPython.core.display.HTML object>"
      ]
     },
     "execution_count": 8,
     "metadata": {},
     "output_type": "execute_result"
    }
   ],
   "source": [
    "HTML(\"\"\"\n",
    "<video width=\"960\" height=\"540\" controls>\n",
    "  <source src=\"{0}\">\n",
    "</video>\n",
    "\"\"\".format(white_output))"
   ]
  },
  {
   "cell_type": "markdown",
   "metadata": {},
   "source": [
    "## Improve the draw_lines() function\n",
    "\n",
    "**At this point, if you were successful with making the pipeline and tuning parameters, you probably have the Hough line segments drawn onto the road, but what about identifying the full extent of the lane and marking it clearly as in the example video (P1_example.mp4)?  Think about defining a line to run the full length of the visible lane based on the line segments you identified with the Hough Transform. As mentioned previously, try to average and/or extrapolate the line segments you've detected to map out the full extent of the lane lines. You can see an example of the result you're going for in the video \"P1_example.mp4\".**\n",
    "\n",
    "**Go back and modify your draw_lines function accordingly and try re-running your pipeline. The new output should draw a single, solid line over the left lane line and a single, solid line over the right lane line. The lines should start from the bottom of the image and extend out to the top of the region of interest.**"
   ]
  },
  {
   "cell_type": "markdown",
   "metadata": {},
   "source": [
    "Now for the one with the solid yellow lane on the left. This one's more tricky!"
   ]
  },
  {
   "cell_type": "code",
   "execution_count": 9,
   "metadata": {},
   "outputs": [
    {
     "name": "stderr",
     "output_type": "stream",
     "text": [
      "t:  11%|█         | 14/125 [00:00<00:00, 139.75it/s, now=None]"
     ]
    },
    {
     "name": "stdout",
     "output_type": "stream",
     "text": [
      "Moviepy - Building video test_videos_output/solidYellowLeft.mp4.\n",
      "Moviepy - Writing video test_videos_output/solidYellowLeft.mp4\n",
      "\n"
     ]
    },
    {
     "name": "stderr",
     "output_type": "stream",
     "text": [
      "                                                              \r"
     ]
    },
    {
     "name": "stdout",
     "output_type": "stream",
     "text": [
      "Moviepy - Done !\n",
      "Moviepy - video ready test_videos_output/solidYellowLeft.mp4\n",
      "CPU times: user 2.62 s, sys: 149 ms, total: 2.76 s\n",
      "Wall time: 1.61 s\n"
     ]
    }
   ],
   "source": [
    "yellow_output = 'test_videos_output/solidYellowLeft.mp4'\n",
    "## To speed up the testing process you may want to try your pipeline on a shorter subclip of the video\n",
    "## To do so add .subclip(start_second,end_second) to the end of the line below\n",
    "## Where start_second and end_second are integer values representing the start and end of the subclip\n",
    "## You may also uncomment the following line for a subclip of the first 5 seconds\n",
    "##clip2 = VideoFileClip('test_videos/solidYellowLeft.mp4').subclip(0,5)\n",
    "clip2 = VideoFileClip('test_videos/solidYellowLeft.mp4').subclip(0,5)\n",
    "yellow_clip = clip2.fl_image(process_image)\n",
    "%time yellow_clip.write_videofile(yellow_output, audio=False)"
   ]
  },
  {
   "cell_type": "code",
   "execution_count": 10,
   "metadata": {},
   "outputs": [
    {
     "data": {
      "text/html": [
       "\n",
       "<video width=\"960\" height=\"540\" controls>\n",
       "  <source src=\"test_videos_output/solidYellowLeft.mp4\">\n",
       "</video>\n"
      ],
      "text/plain": [
       "<IPython.core.display.HTML object>"
      ]
     },
     "execution_count": 10,
     "metadata": {},
     "output_type": "execute_result"
    }
   ],
   "source": [
    "HTML(\"\"\"\n",
    "<video width=\"960\" height=\"540\" controls>\n",
    "  <source src=\"{0}\">\n",
    "</video>\n",
    "\"\"\".format(yellow_output))"
   ]
  },
  {
   "cell_type": "markdown",
   "metadata": {
    "collapsed": true
   },
   "source": [
    "## Optional Challenge\n",
    "\n",
    "Try your lane finding pipeline on the video below.  Does it still work?  Can you figure out a way to make it more robust?  If you're up for the challenge, modify your pipeline so it works with this video and submit it along with the rest of your project!"
   ]
  },
  {
   "cell_type": "code",
   "execution_count": 11,
   "metadata": {},
   "outputs": [
    {
     "name": "stderr",
     "output_type": "stream",
     "text": [
      "t:   4%|▎         | 9/251 [00:00<00:02, 88.58it/s, now=None]"
     ]
    },
    {
     "name": "stdout",
     "output_type": "stream",
     "text": [
      "Moviepy - Building video test_videos_output/challenge.mp4.\n",
      "Moviepy - Writing video test_videos_output/challenge.mp4\n",
      "\n"
     ]
    },
    {
     "name": "stderr",
     "output_type": "stream",
     "text": [
      "                                                              \r"
     ]
    },
    {
     "name": "stdout",
     "output_type": "stream",
     "text": [
      "Moviepy - Done !\n",
      "Moviepy - video ready test_videos_output/challenge.mp4\n",
      "CPU times: user 8.65 s, sys: 426 ms, total: 9.08 s\n",
      "Wall time: 6.79 s\n"
     ]
    }
   ],
   "source": [
    "challenge_output = 'test_videos_output/challenge.mp4'\n",
    "## To speed up the testing process you may want to try your pipeline on a shorter subclip of the video\n",
    "## To do so add .subclip(start_second,end_second) to the end of the line below\n",
    "## Where start_second and end_second are integer values representing the start and end of the subclip\n",
    "## You may also uncomment the following line for a subclip of the first 5 seconds\n",
    "##clip3 = VideoFileClip('test_videos/challenge.mp4').subclip(0,5)\n",
    "clip3 = VideoFileClip('test_videos/challenge.mp4')\n",
    "challenge_clip = clip3.fl_image(process_image)\n",
    "%time challenge_clip.write_videofile(challenge_output, audio=False)"
   ]
  },
  {
   "cell_type": "code",
   "execution_count": null,
   "metadata": {},
   "outputs": [],
   "source": []
  },
  {
   "cell_type": "code",
   "execution_count": 12,
   "metadata": {},
   "outputs": [
    {
     "data": {
      "text/html": [
       "\n",
       "<video width=\"960\" height=\"540\" controls>\n",
       "  <source src=\"test_videos_output/challenge.mp4\">\n",
       "</video>\n"
      ],
      "text/plain": [
       "<IPython.core.display.HTML object>"
      ]
     },
     "execution_count": 12,
     "metadata": {},
     "output_type": "execute_result"
    }
   ],
   "source": [
    "HTML(\"\"\"\n",
    "<video width=\"960\" height=\"540\" controls>\n",
    "  <source src=\"{0}\">\n",
    "</video>\n",
    "\"\"\".format(challenge_output))"
   ]
  },
  {
   "cell_type": "code",
   "execution_count": null,
   "metadata": {},
   "outputs": [],
   "source": []
  }
 ],
 "metadata": {
  "anaconda-cloud": {},
  "kernelspec": {
   "display_name": "Python 3",
   "language": "python",
   "name": "python3"
  },
  "language_info": {
   "codemirror_mode": {
    "name": "ipython",
    "version": 3
   },
   "file_extension": ".py",
   "mimetype": "text/x-python",
   "name": "python",
   "nbconvert_exporter": "python",
   "pygments_lexer": "ipython3",
   "version": "3.7.6"
  }
 },
 "nbformat": 4,
 "nbformat_minor": 1
}
